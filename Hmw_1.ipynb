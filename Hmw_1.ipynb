{
 "cells": [
  {
   "cell_type": "code",
   "execution_count": null,
   "metadata": {},
   "outputs": [],
   "source": [
    "#ex.2.1\n",
    "class Cat(): #(object) ending not required\n",
    "  def __init__(self, name, lastname, age, weight, color): # Constructor: These parameters will be used upon class calling(Except self)\n",
    "    self.name = name # self refers to global variables that can only be used throughout the class\n",
    "    self.lastname = lastname\n",
    "    self.age = age\n",
    "    self.weight = weight \n",
    "    self.color = color\n",
    "  def Introducecat(self): # self is almost always required for a function in a class, unless you don't want to use any of the global class variables\n",
    "    print (f\" Hello! My name is {self.name} {self.lastname}, and I am {self.age} years old. I am not too haevy, just {self.weight} pound, and my color is {self.color} and I love playing with other cats like you.\")\n",
    "\n",
    "  \n",
    "  def Introducekittyconcert (self):\n",
    "    print(f\" Hi! Gee. I am {self.name} {self.lastname}. I am older than you, {self.age} years old. and my weight is {self.weight} pound. My color is {self.color}, and like you I enjoy playing with other cats.\")\n",
    "\n",
    "cat1 = Cat(\"Gee\",\"Po\", 2, 3, \"Brown\") #Creates new cat\n",
    "\n",
    "cat2 = Cat(\"Taw\",\"Wee\", 3, 4, \"Yellow\") #Creates cat2\n",
    "\n",
    "cat1.Introducecat() # Calls Introducecat function of cat1 \n",
    "cat2.Introducekittyconcert() # Calls Introducekittyconcert function of cat2"
   ]
  },
  {
   "cell_type": "code",
   "execution_count": null,
   "metadata": {},
   "outputs": [],
   "source": [
    "#ex2.1\n",
    "class Cat(): #(object) ending not required\n",
    "  def __init__(self, name, lastname, age, weight, color): # Constructor: These parameters will be used upon class calling(Except self)\n",
    "    self.name = name # self refers to global variables that can only be used throughout the class\n",
    "    self.lastname = lastname\n",
    "    self.age = age\n",
    "    self.weight = weight \n",
    "    self.color = color\n",
    "  def Introducecat(self): # self is almost always required for a function in a class, unless you don't want to use any of the global class variables\n",
    "    print (f\" Hello! My name is {self.name} {self.lastname}, and I am {self.age} years old. I am not too haevy, just {self.weight} pound, and my color is {self.color} and I love playing with other cats like you.\")\n",
    "    \n",
    "class Kitty(): #(object) ending not required\n",
    "  def __init__(self, name, lastname, age, weight, color): # Constructor: These parameters will be used upon class calling(Except self)\n",
    "    self.name = name # self refers to global variables that can only be used throughout the class\n",
    "    self.lastname = lastname\n",
    "    self.age = age\n",
    "    self.weight = weight \n",
    "    self.color = color\n",
    "  \n",
    "  def Introducekittyconcert (self):\n",
    "    print(f\" Hi! Gee. I am {self.name} {self.lastname}. I am older than you, {self.age} years old. and my weight is {self.weight} pound. My color is {self.color}, and like you I enjoy playing with other cats.\")\n",
    "\n",
    "cat1 = Cat(\"Gee\",\"Po\", 2, 3, \"Brown\") #Creates new cat\n",
    "\n",
    "kitty = Kitty(\"Taw\",\"Wee\", 3, 4, \"Yellow\") #Creates cat2\n",
    "\n",
    "cat1.Introducecat() # Calls Introducecat function of cat1 \n",
    "kitty.Introducekittyconcert() # Calls Introducekittyconcert function of cat2"
   ]
  },
  {
   "cell_type": "code",
   "execution_count": null,
   "metadata": {},
   "outputs": [],
   "source": [
    "#ex.2.2\n",
    "[i**2 for i in range (0,101)]\n",
    "    "
   ]
  },
  {
   "cell_type": "code",
   "execution_count": null,
   "metadata": {},
   "outputs": [],
   "source": [
    "#ex.2.2\n",
    "import math \n",
    "for x in range(1, 101): \n",
    "    if x % 2 == 0:\n",
    "        print(x)"
   ]
  },
  {
   "cell_type": "code",
   "execution_count": null,
   "metadata": {},
   "outputs": [],
   "source": [
    "#ex.2.3\n",
    "def createGenerator():\n",
    "    mylist = [1,2,4,8]\n",
    "    for i in mylist:\n",
    "        yield \"Meow\"*i\n",
    "        \n",
    "mygenerator = createGenerator()\n",
    "print (mygenerator)\n",
    "\n",
    "for i in mygenerator:\n",
    "    print (i)\n"
   ]
  },
  {
   "cell_type": "code",
   "execution_count": null,
   "metadata": {},
   "outputs": [],
   "source": [
    "#ex.2.4\n",
    "import numpy as np \n",
    "\n",
    "arr0 = np.random.normal(size = (5,5))\n",
    "\n",
    "x = np.random.normal(size = (5,5))\n",
    "\n",
    "if  x.all() > 0.09:\n",
    "    x = x**2\n",
    "else:\n",
    "    x = 42\n",
    "\n",
    "print (x[3])"
   ]
  },
  {
   "cell_type": "code",
   "execution_count": null,
   "metadata": {},
   "outputs": [],
   "source": [
    "#ex.2.4\n",
    "import numpy as np \n",
    "\n",
    "arr0 = np.random.normal(size = (5,5))\n",
    "\n",
    "print (arr0)\n",
    "\n",
    "x = np.random.normal(size = (5,5))\n",
    "print (x)\n",
    "\n",
    "if  x.all() > 0.09:\n",
    "    x = x**2\n",
    "else:\n",
    "    x = 42\n",
    "\n",
    "print (x[3])"
   ]
  },
  {
   "cell_type": "code",
   "execution_count": null,
   "metadata": {},
   "outputs": [],
   "source": [
    "#ex.3\n",
    "\n",
    "from sympy import symbols\n",
    "\n",
    "\n",
    "x,z, a, b = symbols('x z a b')\n",
    "\n",
    "f = (4 * a * x**2) + (a) + 3 + z + b**2\n",
    "\n",
    "derivative_f_x = f.diff(x)\n",
    "derivative_f_z = f.diff(z)\n",
    "derivative_f_a = f.diff(a)\n",
    "derivative_f_b = f.diff(b)\n",
    "\n",
    "print (derivative_f_x)\n",
    "print (derivative_f_z)\n",
    "print (derivative_f_a)\n",
    "print (derivative_f_b)"
   ]
  }
 ],
 "metadata": {
  "kernelspec": {
   "display_name": "Python 3.9.12 ('base')",
   "language": "python",
   "name": "python3"
  },
  "language_info": {
   "codemirror_mode": {
    "name": "ipython",
    "version": 3
   },
   "file_extension": ".py",
   "mimetype": "text/x-python",
   "name": "python",
   "nbconvert_exporter": "python",
   "pygments_lexer": "ipython3",
   "version": "3.9.12"
  },
  "vscode": {
   "interpreter": {
    "hash": "77e439808f4d7a9589c387863d6524822428235edb4ad8dafc1802a094e17dc4"
   }
  }
 },
 "nbformat": 4,
 "nbformat_minor": 4
}
