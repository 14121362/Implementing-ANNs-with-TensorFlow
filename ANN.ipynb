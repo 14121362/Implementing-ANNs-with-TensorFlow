{
 "cells": [
  {
   "cell_type": "code",
   "execution_count": 1,
   "id": "a8850b00",
   "metadata": {},
   "outputs": [
    {
     "name": "stdout",
     "output_type": "stream",
     "text": [
      " Hello! My name is Gee Po, and I am 2 years old. I am not too haevy, just 3 pound, and my color is Brown and I love playing with other cats like you.\n",
      " Hi! Gee. I am Taw Wee. I am older than you, 3 years old. and my weight is 4 pound. My color is Yellow, and like you I enjoy playing with other cats.\n"
     ]
    }
   ],
   "source": [
    "class Cat(): #(object) ending not required\n",
    "  def __init__(self, name, lastname, age, weight, color): # Constructor: These parameters will be used upon class calling(Except self)\n",
    "    self.name = name # self refers to global variables that can only be used throughout the class\n",
    "    self.lastname = lastname\n",
    "    self.age = age\n",
    "    self.weight = weight \n",
    "    self.color = color\n",
    "  def Introducecat(self): # self is almost always required for a function in a class, unless you don't want to use any of the global class variables\n",
    "    print (f\" Hello! My name is {self.name} {self.lastname}, and I am {self.age} years old. I am not too haevy, just {self.weight} pound, and my color is {self.color} and I love playing with other cats like you.\")\n",
    "\n",
    "  \n",
    "  def Introducekittyconcert (self):\n",
    "    print(f\" Hi! Gee. I am {self.name} {self.lastname}. I am older than you, {self.age} years old. and my weight is {self.weight} pound. My color is {self.color}, and like you I enjoy playing with other cats.\")\n",
    "\n",
    "cat1 = Cat(\"Gee\",\"Po\", 2, 3, \"Brown\") #Creates new cat\n",
    "\n",
    "cat2 = Cat(\"Taw\",\"Wee\", 3, 4, \"Yellow\") #Creates cat2\n",
    "\n",
    "cat1.Introducecat() # Calls Introducecat function of cat1 \n",
    "cat2.Introducekittyconcert() # Calls Introducekittyconcert function of cat2"
   ]
  },
  {
   "cell_type": "code",
   "execution_count": 2,
   "id": "6abe0a37",
   "metadata": {},
   "outputs": [
    {
     "name": "stdout",
     "output_type": "stream",
     "text": [
      " Hello! My name is Gee Po, and I am 2 years old. I am not too haevy, just 3 pound, and my color is Brown and I love playing with other cats like you.\n",
      " Hi! Gee. I am Taw Wee. I am older than you, 3 years old. and my weight is 4 pound. My color is Yellow, and like you I enjoy playing with other cats.\n"
     ]
    }
   ],
   "source": [
    "class Cat(): #(object) ending not required\n",
    "  def __init__(self, name, lastname, age, weight, color): # Constructor: These parameters will be used upon class calling(Except self)\n",
    "    self.name = name # self refers to global variables that can only be used throughout the class\n",
    "    self.lastname = lastname\n",
    "    self.age = age\n",
    "    self.weight = weight \n",
    "    self.color = color\n",
    "  def Introducecat(self): # self is almost always required for a function in a class, unless you don't want to use any of the global class variables\n",
    "    print (f\" Hello! My name is {self.name} {self.lastname}, and I am {self.age} years old. I am not too haevy, just {self.weight} pound, and my color is {self.color} and I love playing with other cats like you.\")\n",
    "    \n",
    "class Kitty(): #(object) ending not required\n",
    "  def __init__(self, name, lastname, age, weight, color): # Constructor: These parameters will be used upon class calling(Except self)\n",
    "    self.name = name # self refers to global variables that can only be used throughout the class\n",
    "    self.lastname = lastname\n",
    "    self.age = age\n",
    "    self.weight = weight \n",
    "    self.color = color\n",
    "  \n",
    "  def Introducekittyconcert (self):\n",
    "    print(f\" Hi! Gee. I am {self.name} {self.lastname}. I am older than you, {self.age} years old. and my weight is {self.weight} pound. My color is {self.color}, and like you I enjoy playing with other cats.\")\n",
    "\n",
    "cat1 = Cat(\"Gee\",\"Po\", 2, 3, \"Brown\") #Creates new cat\n",
    "\n",
    "kitty = Kitty(\"Taw\",\"Wee\", 3, 4, \"Yellow\") #Creates cat2\n",
    "\n",
    "cat1.Introducecat() # Calls Introducecat function of cat1 \n",
    "kitty.Introducekittyconcert() # Calls Introducekittyconcert function of cat2"
   ]
  },
  {
   "cell_type": "code",
   "execution_count": 3,
   "id": "143b9a50",
   "metadata": {},
   "outputs": [
    {
     "name": "stdout",
     "output_type": "stream",
     "text": [
      "<generator object createGenerator at 0x000002AFACA48350>\n",
      "Meow\n",
      "MeowMeow\n",
      "MeowMeowMeowMeow\n",
      "MeowMeowMeowMeowMeowMeowMeowMeow\n"
     ]
    }
   ],
   "source": [
    "def createGenerator():\n",
    "    mylist = [1,2,4,8]\n",
    "    for i in mylist:\n",
    "        yield \"Meow\"*i\n",
    "        \n",
    "mygenerator = createGenerator()\n",
    "print (mygenerator)\n",
    "\n",
    "for i in mygenerator:\n",
    "    print (i)\n",
    "    "
   ]
  },
  {
   "cell_type": "code",
   "execution_count": 4,
   "id": "8668f1cc",
   "metadata": {},
   "outputs": [
    {
     "name": "stdout",
     "output_type": "stream",
     "text": [
      "[0.25126989 0.75781198 0.00108306 0.00755127 0.46074588]\n"
     ]
    }
   ],
   "source": [
    "import numpy as np \n",
    "\n",
    "arr0 = np.random.normal(size = (5,5))\n",
    "\n",
    "x = np.random.normal(size = (5,5))\n",
    "\n",
    "if  x.all() > 0.09:\n",
    "    x = x**2\n",
    "else:\n",
    "    x = 42\n",
    "\n",
    "print (x[3])\n"
   ]
  },
  {
   "cell_type": "code",
   "execution_count": 6,
   "id": "2ee00ec2",
   "metadata": {},
   "outputs": [
    {
     "name": "stdout",
     "output_type": "stream",
     "text": [
      "[[-0.76029266 -1.00200004 -1.08221197 -1.18240973  0.61670569]\n",
      " [-0.06625085 -0.67199486 -0.76329061 -0.74340406 -1.30323761]\n",
      " [-0.34427863 -1.91450021 -0.14944534 -0.53117914 -1.614814  ]\n",
      " [ 0.23973843 -0.24273753  0.93309278 -0.57230526 -0.54153548]\n",
      " [ 0.28304034 -0.21606855 -1.17302004  0.05457199 -0.40865754]]\n",
      "[[ 0.11187902 -0.83385592  0.75909234  0.23595482 -0.89203472]\n",
      " [-0.78650368 -0.68690812  1.11988855 -0.1996162   0.28508587]\n",
      " [ 0.62773324  0.08936223  0.17690864  1.00448451  0.03516243]\n",
      " [-0.25221378  0.3457813   0.46333799 -0.72323966  1.12098039]\n",
      " [ 0.06760116 -1.76153179 -0.60267857 -1.5271003  -0.02938464]]\n",
      "[0.06361179 0.11956471 0.21468209 0.52307561 1.25659703]\n"
     ]
    }
   ],
   "source": [
    "import numpy as np \n",
    "\n",
    "arr0 = np.random.normal(size = (5,5))\n",
    "\n",
    "print (arr0)\n",
    "\n",
    "x = np.random.normal(size = (5,5))\n",
    "print (x)\n",
    "\n",
    "if  x.all() > 0.09:\n",
    "    x = x**2\n",
    "else:\n",
    "    x = 42\n",
    "\n",
    "print (x[3])\n"
   ]
  },
  {
   "cell_type": "code",
   "execution_count": null,
   "id": "5f4fcfcb",
   "metadata": {},
   "outputs": [],
   "source": []
  },
  {
   "cell_type": "code",
   "execution_count": null,
   "id": "c1884ef6",
   "metadata": {},
   "outputs": [],
   "source": []
  }
 ],
 "metadata": {
  "kernelspec": {
   "display_name": "Python 3 (ipykernel)",
   "language": "python",
   "name": "python3"
  },
  "language_info": {
   "codemirror_mode": {
    "name": "ipython",
    "version": 3
   },
   "file_extension": ".py",
   "mimetype": "text/x-python",
   "name": "python",
   "nbconvert_exporter": "python",
   "pygments_lexer": "ipython3",
   "version": "3.9.12"
  }
 },
 "nbformat": 4,
 "nbformat_minor": 5
}
